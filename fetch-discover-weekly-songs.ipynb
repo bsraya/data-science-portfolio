{
 "cells": [
  {
   "cell_type": "code",
   "execution_count": 1,
   "metadata": {},
   "outputs": [],
   "source": [
    "import os\n",
    "import time\n",
    "import requests\n",
    "import numpy as np\n",
    "import pandas as pd\n",
    "from dotenv import load_dotenv\n",
    "from helper import get_authorization_url, get_access_token, get_spotify_songs_metadata"
   ]
  },
  {
   "cell_type": "code",
   "execution_count": 2,
   "metadata": {},
   "outputs": [
    {
     "name": "stdout",
     "output_type": "stream",
     "text": [
      "https://accounts.spotify.com/authorize?client_id=962aeb5559434e8a8ddb2b8c78e6c3d2&response_type=code&redirect_uri=http%3A%2F%2Flocalhost%3A3000&scope=user-read-private+user-read-email\n"
     ]
    }
   ],
   "source": [
    "auth_url = get_authorization_url()\n",
    "print(auth_url)"
   ]
  },
  {
   "cell_type": "code",
   "execution_count": 3,
   "metadata": {},
   "outputs": [],
   "source": [
    "cookie = \"AQCmqa9PFPRcEiXnOmVJOiF49kWwm1zaAIQpRCKB2ARwqaVaUGxyxgJ8NqjPuny1mrHzLaMAMiYxnN2sc5RBT1wwANLk78pZLD4QxO3PfNKLCczStzwR5vgR-VnRzcn5JBX1dhZTWxdZkmLtIfVlfjThuStY8I1ZmT6J7qIL2MUm7fkhlqiF2sOxZGrQub63y25ImvtbaMuwLJUiqQ\""
   ]
  },
  {
   "cell_type": "code",
   "execution_count": 4,
   "metadata": {},
   "outputs": [
    {
     "ename": "KeyError",
     "evalue": "'access_token'",
     "output_type": "error",
     "traceback": [
      "\u001b[0;31m---------------------------------------------------------------------------\u001b[0m",
      "\u001b[0;31mKeyError\u001b[0m                                  Traceback (most recent call last)",
      "\u001b[1;32m/Users/johnbjohn/Documents/repos/data-science-portfolio/fetch-discover-weekly-songs.ipynb Cell 4\u001b[0m in \u001b[0;36m1\n\u001b[0;32m----> <a href='vscode-notebook-cell:/Users/johnbjohn/Documents/repos/data-science-portfolio/fetch-discover-weekly-songs.ipynb#W3sZmlsZQ%3D%3D?line=0'>1</a>\u001b[0m access_token \u001b[39m=\u001b[39m get_access_token(cookie)\n\u001b[1;32m      <a href='vscode-notebook-cell:/Users/johnbjohn/Documents/repos/data-science-portfolio/fetch-discover-weekly-songs.ipynb#W3sZmlsZQ%3D%3D?line=1'>2</a>\u001b[0m access_token\n",
      "File \u001b[0;32m~/Documents/repos/data-science-portfolio/helper/spotify/main.py:34\u001b[0m, in \u001b[0;36mget_access_token\u001b[0;34m(cookie)\u001b[0m\n\u001b[1;32m     30\u001b[0m headers \u001b[39m=\u001b[39m {\n\u001b[1;32m     31\u001b[0m     \u001b[39m'\u001b[39m\u001b[39mContent-Type\u001b[39m\u001b[39m'\u001b[39m: \u001b[39m'\u001b[39m\u001b[39mapplication/x-www-form-urlencoded\u001b[39m\u001b[39m'\u001b[39m\n\u001b[1;32m     32\u001b[0m }\n\u001b[1;32m     33\u001b[0m response \u001b[39m=\u001b[39m requests\u001b[39m.\u001b[39mpost(\u001b[39m'\u001b[39m\u001b[39mhttps://accounts.spotify.com/api/token\u001b[39m\u001b[39m'\u001b[39m, data\u001b[39m=\u001b[39mdata, headers\u001b[39m=\u001b[39mheaders)\n\u001b[0;32m---> 34\u001b[0m \u001b[39mreturn\u001b[39;00m response\u001b[39m.\u001b[39;49mjson()[\u001b[39m'\u001b[39;49m\u001b[39maccess_token\u001b[39;49m\u001b[39m'\u001b[39;49m]\n",
      "\u001b[0;31mKeyError\u001b[0m: 'access_token'"
     ]
    }
   ],
   "source": [
    "access_token = get_access_token(cookie)"
   ]
  },
  {
   "cell_type": "code",
   "execution_count": null,
   "metadata": {},
   "outputs": [],
   "source": [
    "discover_weekly_song_ids = []\n",
    "discover_weekly_url = \"https://api.spotify.com/v1/playlists/37i9dQZEVXcHBp4tw3uD8b/tracks\"\n",
    "\n",
    "headers = {\n",
    "  'Authorization': f'Bearer {access_token}',\n",
    "  'Content-Type': 'application/json'\n",
    "}\n",
    "\n",
    "response = requests.get(discover_weekly_url, headers=headers)\n",
    "\n",
    "if response.status_code == 200:\n",
    "  discover_weekly_song_ids = [song['track']['id'] for song in response.json()['items']]\n",
    "  time.sleep(0.5)\n",
    "else:\n",
    "  print(f'Error: {response.status_code} - {response.json()}')\n",
    "\n",
    "print(discover_weekly_song_ids)"
   ]
  },
  {
   "cell_type": "code",
   "execution_count": null,
   "metadata": {},
   "outputs": [],
   "source": [
    "discover_weekly_songs = pd.DataFrame()\n",
    "\n",
    "discover_weekly_songs = get_spotify_songs_metadata(discover_weekly_song_ids, access_token, 1, np.nan)"
   ]
  },
  {
   "cell_type": "code",
   "execution_count": null,
   "metadata": {},
   "outputs": [],
   "source": [
    "discover_weekly_heard_list = [1, 1, 1, 1, 1, 1, 1, 1, 1, 1, 1, 1, 1, 1, 0, 0, 0, 0, 0, 0, 0, 0, 0, 0, 0, 0, 0, 0, 0, 0]\n",
    "discover_weekly_like_list = [1, 1, 0, 0, 0, 0, 0, 0, 0, 0, 0, 0, 1, 0, np.nan, np.nan, np.nan, np.nan, np.nan, np.nan, np.nan, np.nan, np.nan, np.nan, np.nan, np.nan, np.nan, np.nan, np.nan, np.nan]\n",
    "discover_weekly_songs['listen'] = discover_weekly_heard_list\n",
    "discover_weekly_songs['like'] = discover_weekly_like_list"
   ]
  }
 ],
 "metadata": {
  "kernelspec": {
   "display_name": "py310",
   "language": "python",
   "name": "python3"
  },
  "language_info": {
   "codemirror_mode": {
    "name": "ipython",
    "version": 3
   },
   "file_extension": ".py",
   "mimetype": "text/x-python",
   "name": "python",
   "nbconvert_exporter": "python",
   "pygments_lexer": "ipython3",
   "version": "3.10.6"
  },
  "orig_nbformat": 4
 },
 "nbformat": 4,
 "nbformat_minor": 2
}
