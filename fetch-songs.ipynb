{
 "cells": [
  {
   "cell_type": "code",
   "execution_count": 16,
   "metadata": {},
   "outputs": [],
   "source": [
    "import requests\n",
    "import pandas as pd\n",
    "import time\n",
    "import numpy as np\n",
    "from helper import get_spotify_songs_metadata, get_playlist_urls, get_authorization_url, get_access_token"
   ]
  },
  {
   "cell_type": "code",
   "execution_count": 2,
   "metadata": {},
   "outputs": [
    {
     "name": "stdout",
     "output_type": "stream",
     "text": [
      "https://accounts.spotify.com/authorize?client_id=962aeb5559434e8a8ddb2b8c78e6c3d2&response_type=code&redirect_uri=http%3A%2F%2Flocalhost%3A3000&scope=user-read-private+user-read-email\n"
     ]
    }
   ],
   "source": [
    "auth_url = get_authorization_url()\n",
    "print(auth_url)"
   ]
  },
  {
   "cell_type": "code",
   "execution_count": 3,
   "metadata": {},
   "outputs": [],
   "source": [
    "cookie = \"AQA_EkWesltfe4dwi0BePaK6nF6brykBosrPAE9Xuej_Yn2SWhlKyjMdsjWb4rucvZg_Te6mnlaE-6wwVqg7nEz40LcZANYFO0xAtcAvg9KDiPrVX_1Eo6te3yfGYeMV1r0KrDx4wWU9KJ6WATuDkVgtZSQMiZyn7zv_3ncxHUhPA0Ar44YuhDfDMdSptRjZ7De5vNqZBOe_GGjwLw\""
   ]
  },
  {
   "cell_type": "code",
   "execution_count": 4,
   "metadata": {},
   "outputs": [
    {
     "name": "stdout",
     "output_type": "stream",
     "text": [
      "BQAylw3x0gLwWkAUxi_A9pJLVy1Q-_rgSkmWcsfvOL5mwhNmixzqvIcsl8Q5TTASLoRtDvSXiMd5IrqsmZdEOFOXI9PPaQMkRvyyH-hvGtOIY8ubh5SaJ7MJu1OlxY1f0_iY5kBkG84wEBzRBa5GdGNwMNet8D7OKxXP5h153R7uxRD9WIRW6bdCuavIGDnX47KeNB0mVnsy8Q6Z1XuEjA\n"
     ]
    }
   ],
   "source": [
    "access_token = get_access_token(cookie)\n",
    "print(access_token)"
   ]
  },
  {
   "cell_type": "code",
   "execution_count": 5,
   "metadata": {},
   "outputs": [],
   "source": [
    "url = \"https://api.spotify.com/v1/me/playlists\"\n",
    "\n",
    "headers = {\n",
    "    'Authorization': f'Bearer {access_token}',\n",
    "    'Content-Type': 'application/json'\n",
    "}\n",
    "\n",
    "response = requests.get(url, headers=headers)\n",
    "\n",
    "if response.status_code == 200:\n",
    "    playlists = response.json()['items']\n",
    "else:\n",
    "    print(f'Error: {response.status_code} - {response.json()}')"
   ]
  },
  {
   "cell_type": "code",
   "execution_count": 9,
   "metadata": {},
   "outputs": [],
   "source": [
    "favorite_songs = []\n",
    "\n",
    "for playlist in playlists:\n",
    "  song_url = f\"https://api.spotify.com/v1/playlists/{playlist['id']}/tracks\"\n",
    "  headers = {\n",
    "    'Authorization': f'Bearer {access_token}',\n",
    "    'Content-Type': 'application/json'\n",
    "  }\n",
    "  response = requests.get(song_url, headers=headers)\n",
    "\n",
    "  if response.status_code == 200:\n",
    "    favorite_songs.extend([song['track']['id'] for song in response.json()['items']])"
   ]
  },
  {
   "cell_type": "code",
   "execution_count": 13,
   "metadata": {},
   "outputs": [
    {
     "name": "stdout",
     "output_type": "stream",
     "text": [
      "                       id                      title       artist(s)  \\\n",
      "0  1lb3H41lbvAN28N7yqRNL9                    Idea 10  Gibran Alcocer   \n",
      "1  3kJACFlgn1rg0I0l4XmzLI                     Idea 1  Gibran Alcocer   \n",
      "2  0yfMign5fsLtw5I4pK73ge                      Solas  Gibran Alcocer   \n",
      "3  1FCsK0oKWCtDOYRPYSrYgO                    Idea 22  Gibran Alcocer   \n",
      "4  0Wzv6Y5yj6vVMeN2x2BBdg  Idea 10 (Slowed & Reverb)  Gibran Alcocer   \n",
      "\n",
      "   popularity  danceability  energy  key  loudness  mode  speechiness  ...  \\\n",
      "0          71         0.339  0.2420    7   -20.446     0       0.0383  ...   \n",
      "1          65         0.265  0.1460    8   -21.134     0       0.0323  ...   \n",
      "2          64         0.187  0.3240    4   -17.517     0       0.0331  ...   \n",
      "3          63         0.328  0.0704    0   -20.147     0       0.0319  ...   \n",
      "4          62         0.303  0.1620    3   -25.812     0       0.0309  ...   \n",
      "\n",
      "   valence    tempo            type                                   uri  \\\n",
      "0    0.711   87.053  audio_features  spotify:track:1lb3H41lbvAN28N7yqRNL9   \n",
      "1    0.416  172.130  audio_features  spotify:track:3kJACFlgn1rg0I0l4XmzLI   \n",
      "2    0.413  166.320  audio_features  spotify:track:0yfMign5fsLtw5I4pK73ge   \n",
      "3    0.150   51.696  audio_features  spotify:track:1FCsK0oKWCtDOYRPYSrYgO   \n",
      "4    0.433  141.627  audio_features  spotify:track:0Wzv6Y5yj6vVMeN2x2BBdg   \n",
      "\n",
      "                                          track_href  \\\n",
      "0  https://api.spotify.com/v1/tracks/1lb3H41lbvAN...   \n",
      "1  https://api.spotify.com/v1/tracks/3kJACFlgn1rg...   \n",
      "2  https://api.spotify.com/v1/tracks/0yfMign5fsLt...   \n",
      "3  https://api.spotify.com/v1/tracks/1FCsK0oKWCtD...   \n",
      "4  https://api.spotify.com/v1/tracks/0Wzv6Y5yj6vV...   \n",
      "\n",
      "                                        analysis_url duration_ms  \\\n",
      "0  https://api.spotify.com/v1/audio-analysis/1lb3...      128000   \n",
      "1  https://api.spotify.com/v1/audio-analysis/3kJA...      154500   \n",
      "2  https://api.spotify.com/v1/audio-analysis/0yfM...      146000   \n",
      "3  https://api.spotify.com/v1/audio-analysis/1FCs...      152000   \n",
      "4  https://api.spotify.com/v1/audio-analysis/0Wzv...      158571   \n",
      "\n",
      "  time_signature listen  like  \n",
      "0              3      1     1  \n",
      "1              5      1     1  \n",
      "2              3      1     1  \n",
      "3              4      1     1  \n",
      "4              3      1     1  \n",
      "\n",
      "[5 rows x 23 columns]\n"
     ]
    }
   ],
   "source": [
    "liked_songs = get_spotify_songs_metadata(access_token, favorite_songs, 1, 1)\n",
    "print(liked_songs.head())\n",
    "liked_songs.to_parquet('./datasets/cleaned/music-recommendation-system/liked/songs.parquet')"
   ]
  },
  {
   "cell_type": "code",
   "execution_count": 17,
   "metadata": {},
   "outputs": [
    {
     "name": "stdout",
     "output_type": "stream",
     "text": [
      "Error: 404 - {'error': {'status': 404, 'message': \"Specified id doesn't exist\"}}\n"
     ]
    },
    {
     "ename": "UnboundLocalError",
     "evalue": "local variable 'playlists' referenced before assignment",
     "output_type": "error",
     "traceback": [
      "\u001b[0;31m---------------------------------------------------------------------------\u001b[0m",
      "\u001b[0;31mUnboundLocalError\u001b[0m                         Traceback (most recent call last)",
      "\u001b[1;32m/Users/johnbjohn/Documents/repos/data-science-portfolio/fetch-songs.ipynb Cell 8\u001b[0m in \u001b[0;36m3\n\u001b[1;32m      <a href='vscode-notebook-cell:/Users/johnbjohn/Documents/repos/data-science-portfolio/fetch-songs.ipynb#X11sZmlsZQ%3D%3D?line=0'>1</a>\u001b[0m genres \u001b[39m=\u001b[39m [\u001b[39m'\u001b[39m\u001b[39medm\u001b[39m\u001b[39m'\u001b[39m, \u001b[39m'\u001b[39m\u001b[39mlofi\u001b[39m\u001b[39m'\u001b[39m, \u001b[39m'\u001b[39m\u001b[39mrap\u001b[39m\u001b[39m'\u001b[39m, \u001b[39m'\u001b[39m\u001b[39mraggaeton\u001b[39m\u001b[39m'\u001b[39m, \u001b[39m'\u001b[39m\u001b[39minstrumental\u001b[39m\u001b[39m'\u001b[39m, \u001b[39m'\u001b[39m\u001b[39mjazz\u001b[39m\u001b[39m'\u001b[39m, \u001b[39m'\u001b[39m\u001b[39mclassical\u001b[39m\u001b[39m'\u001b[39m, \u001b[39m'\u001b[39m\u001b[39mr&b\u001b[39m\u001b[39m'\u001b[39m]\n\u001b[0;32m----> <a href='vscode-notebook-cell:/Users/johnbjohn/Documents/repos/data-science-portfolio/fetch-songs.ipynb#X11sZmlsZQ%3D%3D?line=2'>3</a>\u001b[0m playlists_based_on_genres \u001b[39m=\u001b[39m get_playlist_urls(access_token, genres)\n\u001b[1;32m      <a href='vscode-notebook-cell:/Users/johnbjohn/Documents/repos/data-science-portfolio/fetch-songs.ipynb#X11sZmlsZQ%3D%3D?line=3'>4</a>\u001b[0m \u001b[39mprint\u001b[39m(playlists_based_on_genres[:\u001b[39m2\u001b[39m])\n",
      "File \u001b[0;32m~/Documents/repos/data-science-portfolio/helper.py:52\u001b[0m, in \u001b[0;36mget_playlist_urls\u001b[0;34m(access_token, genres)\u001b[0m\n\u001b[1;32m     49\u001b[0m   \u001b[39melse\u001b[39;00m:\n\u001b[1;32m     50\u001b[0m     \u001b[39mprint\u001b[39m(\u001b[39mf\u001b[39m\u001b[39m'\u001b[39m\u001b[39mError: \u001b[39m\u001b[39m{\u001b[39;00mresponse\u001b[39m.\u001b[39mstatus_code\u001b[39m}\u001b[39;00m\u001b[39m - \u001b[39m\u001b[39m{\u001b[39;00mresponse\u001b[39m.\u001b[39mjson()\u001b[39m}\u001b[39;00m\u001b[39m'\u001b[39m)\n\u001b[0;32m---> 52\u001b[0m   genres_playlists[genre] \u001b[39m=\u001b[39m [playlist[\u001b[39m'\u001b[39m\u001b[39mhref\u001b[39m\u001b[39m'\u001b[39m] \u001b[39mfor\u001b[39;00m playlist \u001b[39min\u001b[39;00m playlists]\n\u001b[1;32m     53\u001b[0m \u001b[39mreturn\u001b[39;00m genres_playlists\n",
      "\u001b[0;31mUnboundLocalError\u001b[0m: local variable 'playlists' referenced before assignment"
     ]
    }
   ],
   "source": [
    "genres = ['edm', 'lofi', 'rap', 'raggaeton', 'instrumental', 'jazz', 'classical', 'r&b']\n",
    "\n",
    "playlists_based_on_genres = get_playlist_urls(access_token, genres)\n",
    "print(playlists_based_on_genres[:2])"
   ]
  },
  {
   "cell_type": "code",
   "execution_count": 47,
   "metadata": {},
   "outputs": [],
   "source": [
    "# iterate through a dict called playlists_based_on_genres\n",
    "unheard_song_ids = []\n",
    "for key, value in playlists_based_on_genres.items():\n",
    "    for url in value:\n",
    "        playlist_url = f\"{url}/tracks\"\n",
    "        headers = {\n",
    "            'Authorization': f'Bearer {access_token}',\n",
    "            'Content-Type': 'application/json'\n",
    "        }\n",
    "        response = requests.get(playlist_url, headers=headers)\n",
    "        if response.status_code == 200:\n",
    "            songs = response.json()['items']\n",
    "            time.sleep(0.5)\n",
    "        else:\n",
    "            print(f'Error: {response.status_code} - {response.json()}')\n",
    "\n",
    "        for song in songs:\n",
    "            if song['track']['id'] not in unheard_song_ids:\n",
    "                unheard_song_ids.append(song['track']['id'])"
   ]
  },
  {
   "cell_type": "code",
   "execution_count": 49,
   "metadata": {},
   "outputs": [
    {
     "data": {
      "text/plain": [
       "2298"
      ]
     },
     "execution_count": 49,
     "metadata": {},
     "output_type": "execute_result"
    }
   ],
   "source": [
    "len(unheard_song_ids)"
   ]
  },
  {
   "cell_type": "code",
   "execution_count": null,
   "metadata": {},
   "outputs": [],
   "source": []
  },
  {
   "cell_type": "code",
   "execution_count": 60,
   "metadata": {},
   "outputs": [],
   "source": [
    "unheard_songs = pd.DataFrame()\n",
    "\n",
    "for idx, song_id in enumerate(unheard_song_ids):\n",
    "  if idx % 100 == 0:\n",
    "    time.sleep(10)\n",
    "\n",
    "  headers = {\n",
    "    'Authorization': f'Bearer {access_token}',\n",
    "    'Content-Type': 'application/json'\n",
    "  }\n",
    "\n",
    "  track_response = requests.get(\n",
    "    f\"https://api.spotify.com/v1/tracks/{song_id}\",\n",
    "    headers=headers\n",
    "  ).json()\n",
    "  \n",
    "  audio_analysis_response = requests.get(\n",
    "    f\"https://api.spotify.com/v1/audio-features/{song_id}\", \n",
    "    headers=headers\n",
    "  ).json()\n",
    "\n",
    "  time.sleep(0.1)\n",
    "  row = {\n",
    "    'id': track_response.get('id'),\n",
    "    'title': track_response.get('name'),\n",
    "    'artist(s)': ', '.join([artist['name'] for artist in track_response.get('album').get('artists')]),\n",
    "    'popularity': track_response.get('popularity'),\n",
    "    'danceability': audio_analysis_response.get('danceability'),\n",
    "    'energy': audio_analysis_response.get('energy'),\n",
    "    'key': audio_analysis_response.get('key'),\n",
    "    'loudness': audio_analysis_response.get('loudness'),\n",
    "    'mode': audio_analysis_response.get('mode'),\n",
    "    'speechiness': audio_analysis_response.get('speechiness'),\n",
    "    'acousticness': audio_analysis_response.get('acousticness'),\n",
    "    'instrumentalness': audio_analysis_response.get('instrumentalness'),\n",
    "    'liveness': audio_analysis_response.get('liveness'),\n",
    "    'valence': audio_analysis_response.get('valence'),\n",
    "    'tempo': audio_analysis_response.get('tempo'),\n",
    "    'type': audio_analysis_response.get('type'),\n",
    "    'id': audio_analysis_response.get('id'),\n",
    "    'uri': audio_analysis_response.get('uri'),\n",
    "    'track_href': audio_analysis_response.get('track_href'),\n",
    "    'analysis_url': audio_analysis_response.get('analysis_url'),\n",
    "    'duration_ms': audio_analysis_response.get('duration_ms'),\n",
    "    'time_signature': audio_analysis_response.get('time_signature'),\n",
    "    'listen': 0,\n",
    "    'like': np.nan\n",
    "  }\n",
    "  unheard_songs = pd.concat([unheard_songs, pd.DataFrame(row, index=[len(unheard_songs)])])"
   ]
  },
  {
   "cell_type": "code",
   "execution_count": 67,
   "metadata": {},
   "outputs": [],
   "source": [
    "unheard_songs.to_parquet('./datasets/cleaned/music-recommendation-system/unheard/songs.parquet', engine='pyarrow')"
   ]
  },
  {
   "cell_type": "code",
   "execution_count": 72,
   "metadata": {},
   "outputs": [
    {
     "name": "stdout",
     "output_type": "stream",
     "text": [
      "['1s7oOCT8vauUh01PbJD6ps', '1elhmWW7Bv0MOQj2gAsyoV', '1OyakDSOcvuZjvESJxri3w', '3TFdXrYIubXABQh0CxIiSs', '6TkyRlfE4XMPDR6uA0xYyz', '5cRalo5aaLDFcNudQEQqJx', '3kyVmdoNCvLxGlmqY1yTQz', '69g0XAms2Js45eTCrT1nVL', '16C6yAxcA3GCtoXbq3dUYl', '1lF7uD9Yu2CL17a6tm4Tkh', '67u4rpzdgdiPjRGZii9GEz', '73tnLQtl7FqD0MS7VEM0xi', '3nzK0WPzGPczWa45eIFphc', '1OBK4DltPHWoeilauCyckU', '6YULY6STClTO2tekAZb81j', '5tgLkUlAmTR9FhOzVVfIJS', '7B5EbapjMpLuK7A7PJUvxn', '6UdU7dLYydmt6OaPItTso9', '6tm4RYbhLGrFmYwSTFNFaB', '7s0pdQmbXq6GtMHpkCTLLw', '23xnJ8uEgUPXLARnsedrOn', '2VbO6uAFOFVaAuWGbntoQL', '6vhrwbHQjl4klPXlPLnar4', '4UoeRYvYxVx72vWK4lGRYv', '3XFFxrFN9s8hoIO5TwKxIT', '2F8Sx9EPW0bcqTMZDwxEqX', '3cTsh9sZdHHV6Syjcwg8VW', '4Gzpzsew2wogr4iQSlT54W', '3XCoEJvCYqTbM8bhples8N', '3vN4noEugIxWThJUeEJqQJ']\n"
     ]
    }
   ],
   "source": [
    "discover_weekly_song_ids = []\n",
    "discover_weekly_url = \"https://api.spotify.com/v1/playlists/37i9dQZEVXcHBp4tw3uD8b/tracks\"\n",
    "\n",
    "headers = {\n",
    "  'Authorization': f'Bearer {access_token}',\n",
    "  'Content-Type': 'application/json'\n",
    "}\n",
    "\n",
    "response = requests.get(discover_weekly_url, headers=headers)\n",
    "\n",
    "if response.status_code == 200:\n",
    "  discover_weekly_song_ids = [song['track']['id'] for song in response.json()['items']]\n",
    "  time.sleep(0.5)\n",
    "else:\n",
    "  print(f'Error: {response.status_code} - {response.json()}')\n",
    "\n",
    "print(discover_weekly_song_ids)"
   ]
  },
  {
   "cell_type": "code",
   "execution_count": 73,
   "metadata": {},
   "outputs": [
    {
     "name": "stdout",
     "output_type": "stream",
     "text": [
      "30\n"
     ]
    }
   ],
   "source": [
    "discover_weekly_songs = pd.DataFrame()\n",
    "\n",
    "for song_id in discover_weekly_song_ids:\n",
    "  headers = {\n",
    "    'Authorization': f'Bearer {access_token}',\n",
    "    'Content-Type': 'application/json'\n",
    "  }\n",
    "\n",
    "  track_response = requests.get(\n",
    "    f\"https://api.spotify.com/v1/tracks/{song_id}\",\n",
    "    headers=headers\n",
    "  ).json()\n",
    "  \n",
    "  audio_analysis_response = requests.get(\n",
    "    f\"https://api.spotify.com/v1/audio-features/{song_id}\", \n",
    "    headers=headers\n",
    "  ).json()\n",
    "\n",
    "  time.sleep(0.1)\n",
    "  row = {\n",
    "    'id': track_response.get('id'),\n",
    "    'title': track_response.get('name'),\n",
    "    'artist(s)': ', '.join([artist['name'] for artist in track_response.get('album').get('artists')]),\n",
    "    'popularity': track_response.get('popularity'),\n",
    "    'danceability': audio_analysis_response.get('danceability'),\n",
    "    'energy': audio_analysis_response.get('energy'),\n",
    "    'key': audio_analysis_response.get('key'),\n",
    "    'loudness': audio_analysis_response.get('loudness'),\n",
    "    'mode': audio_analysis_response.get('mode'),\n",
    "    'speechiness': audio_analysis_response.get('speechiness'),\n",
    "    'acousticness': audio_analysis_response.get('acousticness'),\n",
    "    'instrumentalness': audio_analysis_response.get('instrumentalness'),\n",
    "    'liveness': audio_analysis_response.get('liveness'),\n",
    "    'valence': audio_analysis_response.get('valence'),\n",
    "    'tempo': audio_analysis_response.get('tempo'),\n",
    "    'type': audio_analysis_response.get('type'),\n",
    "    'id': audio_analysis_response.get('id'),\n",
    "    'uri': audio_analysis_response.get('uri'),\n",
    "    'track_href': audio_analysis_response.get('track_href'),\n",
    "    'analysis_url': audio_analysis_response.get('analysis_url'),\n",
    "    'duration_ms': audio_analysis_response.get('duration_ms'),\n",
    "    'time_signature': audio_analysis_response.get('time_signature'),\n",
    "    'listen': 0,\n",
    "    'like': np.nan\n",
    "  }\n",
    "  discover_weekly_songs = pd.concat([discover_weekly_songs, pd.DataFrame(row, index=[len(discover_weekly_songs)])])\n",
    "\n",
    "print(len(discover_weekly_songs))"
   ]
  },
  {
   "cell_type": "code",
   "execution_count": 74,
   "metadata": {},
   "outputs": [],
   "source": [
    "discover_weekly_heard_list = [1, 1, 1, 1, 1, 1, 1, 1, 1, 1, 1, 1, 1, 1, 0, 0, 0, 0, 0, 0, 0, 0, 0, 0, 0, 0, 0, 0, 0, 0]\n",
    "discover_weekly_like_list = [1, 1, 0, 0, 0, 0, 0, 0, 0, 0, 0, 0, 1, 0, np.nan, np.nan, np.nan, np.nan, np.nan, np.nan, np.nan, np.nan, np.nan, np.nan, np.nan, np.nan, np.nan, np.nan, np.nan, np.nan]\n",
    "discover_weekly_songs['listen'] = discover_weekly_heard_list\n",
    "discover_weekly_songs['like'] = discover_weekly_like_list"
   ]
  },
  {
   "cell_type": "code",
   "execution_count": 76,
   "metadata": {},
   "outputs": [],
   "source": [
    "discover_weekly_songs.to_parquet('./datasets/cleaned/music-recommendation-system/unheard/discover-weekly.parquet', engine='pyarrow')"
   ]
  },
  {
   "cell_type": "code",
   "execution_count": null,
   "metadata": {},
   "outputs": [],
   "source": []
  }
 ],
 "metadata": {
  "kernelspec": {
   "display_name": "py310",
   "language": "python",
   "name": "python3"
  },
  "language_info": {
   "codemirror_mode": {
    "name": "ipython",
    "version": 3
   },
   "file_extension": ".py",
   "mimetype": "text/x-python",
   "name": "python",
   "nbconvert_exporter": "python",
   "pygments_lexer": "ipython3",
   "version": "3.10.6"
  },
  "orig_nbformat": 4
 },
 "nbformat": 4,
 "nbformat_minor": 2
}
