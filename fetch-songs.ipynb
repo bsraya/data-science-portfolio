{
 "cells": [
  {
   "cell_type": "code",
   "execution_count": 1,
   "metadata": {},
   "outputs": [],
   "source": [
    "import time\n",
    "import requests\n",
    "import numpy as np\n",
    "import pandas as pd\n",
    "from helper import get_authorization_url, get_access_token, get_playlist_urls, get_song_urls, get_spotify_songs_metadata"
   ]
  },
  {
   "cell_type": "code",
   "execution_count": 2,
   "metadata": {},
   "outputs": [
    {
     "name": "stdout",
     "output_type": "stream",
     "text": [
      "https://accounts.spotify.com/authorize?client_id=962aeb5559434e8a8ddb2b8c78e6c3d2&response_type=code&redirect_uri=http%3A%2F%2Flocalhost%3A3000&scope=user-read-private+user-read-email\n"
     ]
    }
   ],
   "source": [
    "auth_url = get_authorization_url()\n",
    "print(auth_url)"
   ]
  },
  {
   "cell_type": "code",
   "execution_count": 3,
   "metadata": {},
   "outputs": [],
   "source": [
    "cookie = \"AQBCH5fmjllyBj8HnWvuy0yYFEpdWPpcd5m23N4SUa_OKK1v-B-vob8JKTVEPXAZtyaIi5TgGCKPhnFovkDwN3Zbzik5W1xbb0fdq8Rc86eDOW9nZ5r-7jNEPVmu0cdTqYrfusMUJaIMzbpPTKx7RuCrOSDz17U_0QK0wYGrrYVt47yCXcXHStkr2BQQwYQFB-VejFZR1ixSCltE8g\""
   ]
  },
  {
   "cell_type": "code",
   "execution_count": 4,
   "metadata": {},
   "outputs": [],
   "source": [
    "access_token = get_access_token(cookie)"
   ]
  },
  {
   "cell_type": "code",
   "execution_count": 5,
   "metadata": {},
   "outputs": [],
   "source": [
    "url = \"https://api.spotify.com/v1/me/playlists\"\n",
    "\n",
    "headers = {\n",
    "    'Authorization': f'Bearer {access_token}',\n",
    "    'Content-Type': 'application/json'\n",
    "}\n",
    "\n",
    "response = requests.get(url, headers=headers)\n",
    "\n",
    "if response.status_code == 200:\n",
    "    playlists = response.json()['items']\n",
    "else:\n",
    "    print(f'Error: {response.status_code} - {response.json()}')"
   ]
  },
  {
   "cell_type": "code",
   "execution_count": 6,
   "metadata": {},
   "outputs": [],
   "source": [
    "favorite_songs = []\n",
    "\n",
    "for playlist in playlists:\n",
    "  song_url = f\"https://api.spotify.com/v1/playlists/{playlist['id']}/tracks\"\n",
    "  headers = {\n",
    "    'Authorization': f'Bearer {access_token}',\n",
    "    'Content-Type': 'application/json'\n",
    "  }\n",
    "  response = requests.get(song_url, headers=headers)\n",
    "\n",
    "  if response.status_code == 200:\n",
    "    favorite_songs.extend([song['track']['id'] for song in response.json()['items']])\n",
    "\n",
    "batched_favorite_songs = [favorite_songs[i:i + 50] for i in range(0, len(favorite_songs), 50)]"
   ]
  },
  {
   "cell_type": "code",
   "execution_count": 7,
   "metadata": {},
   "outputs": [],
   "source": [
    "# liked_songs = pd.DataFrame()\n",
    "# for batch in batched_favorite_songs:\n",
    "#     liked_songs = get_spotify_songs_metadata(liked_songs, access_token, batch, 1, 1)\n",
    "# liked_songs.to_parquet('./datasets/cleaned/music-recommendation-system/liked/songs.parquet', engine='pyarrow')"
   ]
  },
  {
   "cell_type": "code",
   "execution_count": 8,
   "metadata": {},
   "outputs": [],
   "source": [
    "genres = ['pop', 'mood', 'gaming']\n",
    "\n",
    "playlists_based_on_genres = get_playlist_urls(access_token, genres)\n",
    "unheard_song_ids = get_song_urls(access_token, playlists_based_on_genres)"
   ]
  },
  {
   "cell_type": "code",
   "execution_count": 10,
   "metadata": {},
   "outputs": [],
   "source": [
    "batches = (len(unheard_song_ids) / 10) + 1\n",
    "unheard_song_ids_batches = np.array_split(unheard_song_ids, batches)"
   ]
  },
  {
   "cell_type": "code",
   "execution_count": 11,
   "metadata": {},
   "outputs": [],
   "source": [
    "unheard_songs = pd.DataFrame()\n",
    "\n",
    "for batch in unheard_song_ids_batches:\n",
    "    unheard_songs = get_spotify_songs_metadata(unheard_songs, access_token, batch, 0, np.nan)"
   ]
  },
  {
   "cell_type": "code",
   "execution_count": 12,
   "metadata": {},
   "outputs": [
    {
     "data": {
      "text/plain": [
       "1044"
      ]
     },
     "execution_count": 12,
     "metadata": {},
     "output_type": "execute_result"
    }
   ],
   "source": [
    "len(unheard_songs)"
   ]
  },
  {
   "cell_type": "code",
   "execution_count": 13,
   "metadata": {},
   "outputs": [
    {
     "data": {
      "text/plain": [
       "id                     0\n",
       "title                  0\n",
       "artist(s)              0\n",
       "popularity             0\n",
       "danceability           0\n",
       "energy                 0\n",
       "key                    0\n",
       "loudness               0\n",
       "mode                   0\n",
       "speechiness            0\n",
       "acousticness           0\n",
       "instrumentalness       0\n",
       "liveness               0\n",
       "valence                0\n",
       "tempo                  0\n",
       "type                   0\n",
       "uri                    0\n",
       "track_href             0\n",
       "analysis_url           0\n",
       "duration_ms            0\n",
       "time_signature         0\n",
       "listen                 0\n",
       "like                1044\n",
       "dtype: int64"
      ]
     },
     "execution_count": 13,
     "metadata": {},
     "output_type": "execute_result"
    }
   ],
   "source": [
    "unheard_songs.isnull().sum()"
   ]
  },
  {
   "cell_type": "code",
   "execution_count": null,
   "metadata": {},
   "outputs": [],
   "source": [
    "unheard_songs.to_parquet('./datasets/cleaned/music-recommendation-system/unheard/songs.parquet', engine='pyarrow')"
   ]
  },
  {
   "cell_type": "code",
   "execution_count": null,
   "metadata": {},
   "outputs": [
    {
     "name": "stdout",
     "output_type": "stream",
     "text": [
      "['1s7oOCT8vauUh01PbJD6ps', '1elhmWW7Bv0MOQj2gAsyoV', '1OyakDSOcvuZjvESJxri3w', '3TFdXrYIubXABQh0CxIiSs', '6TkyRlfE4XMPDR6uA0xYyz', '5cRalo5aaLDFcNudQEQqJx', '3kyVmdoNCvLxGlmqY1yTQz', '69g0XAms2Js45eTCrT1nVL', '16C6yAxcA3GCtoXbq3dUYl', '1lF7uD9Yu2CL17a6tm4Tkh', '67u4rpzdgdiPjRGZii9GEz', '73tnLQtl7FqD0MS7VEM0xi', '3nzK0WPzGPczWa45eIFphc', '1OBK4DltPHWoeilauCyckU', '6YULY6STClTO2tekAZb81j', '5tgLkUlAmTR9FhOzVVfIJS', '7B5EbapjMpLuK7A7PJUvxn', '6UdU7dLYydmt6OaPItTso9', '6tm4RYbhLGrFmYwSTFNFaB', '7s0pdQmbXq6GtMHpkCTLLw', '23xnJ8uEgUPXLARnsedrOn', '2VbO6uAFOFVaAuWGbntoQL', '6vhrwbHQjl4klPXlPLnar4', '4UoeRYvYxVx72vWK4lGRYv', '3XFFxrFN9s8hoIO5TwKxIT', '2F8Sx9EPW0bcqTMZDwxEqX', '3cTsh9sZdHHV6Syjcwg8VW', '4Gzpzsew2wogr4iQSlT54W', '3XCoEJvCYqTbM8bhples8N', '3vN4noEugIxWThJUeEJqQJ']\n"
     ]
    }
   ],
   "source": [
    "discover_weekly_song_ids = []\n",
    "discover_weekly_url = \"https://api.spotify.com/v1/playlists/37i9dQZEVXcHBp4tw3uD8b/tracks\"\n",
    "\n",
    "headers = {\n",
    "  'Authorization': f'Bearer {access_token}',\n",
    "  'Content-Type': 'application/json'\n",
    "}\n",
    "\n",
    "response = requests.get(discover_weekly_url, headers=headers)\n",
    "\n",
    "if response.status_code == 200:\n",
    "  discover_weekly_song_ids = [song['track']['id'] for song in response.json()['items']]\n",
    "  time.sleep(0.5)\n",
    "else:\n",
    "  print(f'Error: {response.status_code} - {response.json()}')\n",
    "\n",
    "print(discover_weekly_song_ids)"
   ]
  },
  {
   "cell_type": "code",
   "execution_count": null,
   "metadata": {},
   "outputs": [
    {
     "name": "stdout",
     "output_type": "stream",
     "text": [
      "30\n"
     ]
    }
   ],
   "source": [
    "discover_weekly_songs = pd.DataFrame()\n",
    "\n",
    "for song_id in discover_weekly_song_ids:\n",
    "  headers = {\n",
    "    'Authorization': f'Bearer {access_token}',\n",
    "    'Content-Type': 'application/json'\n",
    "  }\n",
    "\n",
    "  track_response = requests.get(\n",
    "    f\"https://api.spotify.com/v1/tracks/{song_id}\",\n",
    "    headers=headers\n",
    "  ).json()\n",
    "  \n",
    "  audio_analysis_response = requests.get(\n",
    "    f\"https://api.spotify.com/v1/audio-features/{song_id}\", \n",
    "    headers=headers\n",
    "  ).json()\n",
    "\n",
    "  time.sleep(0.1)\n",
    "  row = {\n",
    "    'id': track_response.get('id'),\n",
    "    'title': track_response.get('name'),\n",
    "    'artist(s)': ', '.join([artist['name'] for artist in track_response.get('album').get('artists')]),\n",
    "    'popularity': track_response.get('popularity'),\n",
    "    'danceability': audio_analysis_response.get('danceability'),\n",
    "    'energy': audio_analysis_response.get('energy'),\n",
    "    'key': audio_analysis_response.get('key'),\n",
    "    'loudness': audio_analysis_response.get('loudness'),\n",
    "    'mode': audio_analysis_response.get('mode'),\n",
    "    'speechiness': audio_analysis_response.get('speechiness'),\n",
    "    'acousticness': audio_analysis_response.get('acousticness'),\n",
    "    'instrumentalness': audio_analysis_response.get('instrumentalness'),\n",
    "    'liveness': audio_analysis_response.get('liveness'),\n",
    "    'valence': audio_analysis_response.get('valence'),\n",
    "    'tempo': audio_analysis_response.get('tempo'),\n",
    "    'type': audio_analysis_response.get('type'),\n",
    "    'id': audio_analysis_response.get('id'),\n",
    "    'uri': audio_analysis_response.get('uri'),\n",
    "    'track_href': audio_analysis_response.get('track_href'),\n",
    "    'analysis_url': audio_analysis_response.get('analysis_url'),\n",
    "    'duration_ms': audio_analysis_response.get('duration_ms'),\n",
    "    'time_signature': audio_analysis_response.get('time_signature'),\n",
    "    'listen': 0,\n",
    "    'like': np.nan\n",
    "  }\n",
    "  discover_weekly_songs = pd.concat([discover_weekly_songs, pd.DataFrame(row, index=[len(discover_weekly_songs)])])\n",
    "\n",
    "print(len(discover_weekly_songs))"
   ]
  },
  {
   "cell_type": "code",
   "execution_count": null,
   "metadata": {},
   "outputs": [],
   "source": [
    "discover_weekly_heard_list = [1, 1, 1, 1, 1, 1, 1, 1, 1, 1, 1, 1, 1, 1, 0, 0, 0, 0, 0, 0, 0, 0, 0, 0, 0, 0, 0, 0, 0, 0]\n",
    "discover_weekly_like_list = [1, 1, 0, 0, 0, 0, 0, 0, 0, 0, 0, 0, 1, 0, np.nan, np.nan, np.nan, np.nan, np.nan, np.nan, np.nan, np.nan, np.nan, np.nan, np.nan, np.nan, np.nan, np.nan, np.nan, np.nan]\n",
    "discover_weekly_songs['listen'] = discover_weekly_heard_list\n",
    "discover_weekly_songs['like'] = discover_weekly_like_list"
   ]
  },
  {
   "cell_type": "code",
   "execution_count": null,
   "metadata": {},
   "outputs": [],
   "source": [
    "discover_weekly_songs.to_parquet('./datasets/cleaned/music-recommendation-system/unheard/discover-weekly.parquet', engine='pyarrow')"
   ]
  },
  {
   "cell_type": "code",
   "execution_count": null,
   "metadata": {},
   "outputs": [],
   "source": []
  }
 ],
 "metadata": {
  "kernelspec": {
   "display_name": "py310",
   "language": "python",
   "name": "python3"
  },
  "language_info": {
   "codemirror_mode": {
    "name": "ipython",
    "version": 3
   },
   "file_extension": ".py",
   "mimetype": "text/x-python",
   "name": "python",
   "nbconvert_exporter": "python",
   "pygments_lexer": "ipython3",
   "version": "3.10.11"
  },
  "orig_nbformat": 4
 },
 "nbformat": 4,
 "nbformat_minor": 2
}
