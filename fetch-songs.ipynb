{
 "cells": [
  {
   "cell_type": "code",
   "execution_count": 1,
   "metadata": {},
   "outputs": [],
   "source": [
    "import time\n",
    "import math\n",
    "import requests\n",
    "import numpy as np\n",
    "import pandas as pd\n",
    "from helper import get_authorization_url, get_access_token, get_playlist_ids_from_categories, get_song_ids_from_playlist, get_spotify_songs_metadata"
   ]
  },
  {
   "cell_type": "code",
   "execution_count": 2,
   "metadata": {},
   "outputs": [
    {
     "name": "stdout",
     "output_type": "stream",
     "text": [
      "https://accounts.spotify.com/authorize?client_id=962aeb5559434e8a8ddb2b8c78e6c3d2&response_type=code&redirect_uri=http%3A%2F%2Flocalhost%3A3000&scope=user-read-private+user-read-email\n"
     ]
    }
   ],
   "source": [
    "auth_url = get_authorization_url()\n",
    "print(auth_url)"
   ]
  },
  {
   "cell_type": "code",
   "execution_count": 3,
   "metadata": {},
   "outputs": [],
   "source": [
    "cookie = \"AQCg5p-O3JZv3nRM63Ogc8eAAoS-0xkaMkKx1Q6qbAPMvpyKCfxeKbSRW9IWCNED87R5sOzFiHfW8oiIEs5x4PIphfgG5_PkjW3ymkw3c5D0T0PrKSLE65NFiEzRR2cAOBmdSqiSUmDXb71y153jdG_uIXqukzhm4GKVJX3zpRs_UVRH5d4hlwYHMkcZ_XCfrp8-vwGAb6QOEtR4Rw\""
   ]
  },
  {
   "cell_type": "code",
   "execution_count": 4,
   "metadata": {},
   "outputs": [
    {
     "ename": "KeyError",
     "evalue": "'access_token'",
     "output_type": "error",
     "traceback": [
      "\u001b[0;31m---------------------------------------------------------------------------\u001b[0m",
      "\u001b[0;31mKeyError\u001b[0m                                  Traceback (most recent call last)",
      "\u001b[1;32m/Users/johnbjohn/Documents/repos/data-science-portfolio/fetch-songs.ipynb Cell 4\u001b[0m in \u001b[0;36m1\n\u001b[0;32m----> <a href='vscode-notebook-cell:/Users/johnbjohn/Documents/repos/data-science-portfolio/fetch-songs.ipynb#X14sZmlsZQ%3D%3D?line=0'>1</a>\u001b[0m access_token \u001b[39m=\u001b[39m get_access_token(cookie)\n",
      "File \u001b[0;32m~/Documents/repos/data-science-portfolio/helper/spotify/main.py:34\u001b[0m, in \u001b[0;36mget_access_token\u001b[0;34m(cookie)\u001b[0m\n\u001b[1;32m     30\u001b[0m headers \u001b[39m=\u001b[39m {\n\u001b[1;32m     31\u001b[0m     \u001b[39m'\u001b[39m\u001b[39mContent-Type\u001b[39m\u001b[39m'\u001b[39m: \u001b[39m'\u001b[39m\u001b[39mapplication/x-www-form-urlencoded\u001b[39m\u001b[39m'\u001b[39m\n\u001b[1;32m     32\u001b[0m }\n\u001b[1;32m     33\u001b[0m response \u001b[39m=\u001b[39m requests\u001b[39m.\u001b[39mpost(\u001b[39m'\u001b[39m\u001b[39mhttps://accounts.spotify.com/api/token\u001b[39m\u001b[39m'\u001b[39m, data\u001b[39m=\u001b[39mdata, headers\u001b[39m=\u001b[39mheaders)\n\u001b[0;32m---> 34\u001b[0m \u001b[39mreturn\u001b[39;00m response\u001b[39m.\u001b[39;49mjson()[\u001b[39m'\u001b[39;49m\u001b[39maccess_token\u001b[39;49m\u001b[39m'\u001b[39;49m]\n",
      "\u001b[0;31mKeyError\u001b[0m: 'access_token'"
     ]
    }
   ],
   "source": [
    "access_token = get_access_token(cookie)"
   ]
  },
  {
   "cell_type": "code",
   "execution_count": 9,
   "metadata": {},
   "outputs": [
    {
     "name": "stdout",
     "output_type": "stream",
     "text": [
      "Error: 400 - {'error': {'status': 400, 'message': 'Only valid bearer authentication supported'}}\n"
     ]
    }
   ],
   "source": [
    "url = \"https://api.spotify.com/v1/me/playlists\"\n",
    "\n",
    "headers = {\n",
    "    'Authorization': f'Bearer {access_token}',\n",
    "    'Content-Type': 'application/json'\n",
    "}\n",
    "\n",
    "response = requests.get(url, headers=headers)\n",
    "\n",
    "if response.status_code == 200:\n",
    "    playlists = response.json()['items']\n",
    "else:\n",
    "    print(f'Error: {response.status_code} - {response.json()}')"
   ]
  },
  {
   "cell_type": "code",
   "execution_count": null,
   "metadata": {},
   "outputs": [],
   "source": [
    "favorite_songs = []\n",
    "\n",
    "for playlist in playlists:\n",
    "  song_url = f\"https://api.spotify.com/v1/playlists/{playlist['id']}/tracks\"\n",
    "  headers = {\n",
    "    'Authorization': f'Bearer {access_token}',\n",
    "    'Content-Type': 'application/json'\n",
    "  }\n",
    "  response = requests.get(song_url, headers=headers)\n",
    "\n",
    "  if response.status_code == 200:\n",
    "    favorite_songs.extend([song['track']['id'] for song in response.json()['items']])\n",
    "\n",
    "batched_favorite_songs = [favorite_songs[i:i + 50] for i in range(0, len(favorite_songs), 50)]"
   ]
  },
  {
   "cell_type": "code",
   "execution_count": null,
   "metadata": {},
   "outputs": [],
   "source": [
    "# liked_songs = pd.DataFrame()\n",
    "# for batch in batched_favorite_songs:\n",
    "#     liked_songs = get_spotify_songs_metadata(liked_songs, access_token, batch, 1, 1)\n",
    "# liked_songs.to_parquet('./datasets/cleaned/music-recommendation-system/liked/songs.parquet', engine='pyarrow')"
   ]
  },
  {
   "cell_type": "code",
   "execution_count": null,
   "metadata": {},
   "outputs": [],
   "source": [
    "genres = ['pop', 'mood', 'gaming']\n",
    "\n",
    "playlist_ids = get_playlist_ids_from_categories(access_token, ['pop'], 'TW', 1)\n",
    "unheard_song_ids = get_song_ids_from_playlist(access_token, playlist_ids)"
   ]
  },
  {
   "cell_type": "code",
   "execution_count": null,
   "metadata": {},
   "outputs": [],
   "source": [
    "print(playlist_ids)"
   ]
  },
  {
   "cell_type": "code",
   "execution_count": null,
   "metadata": {},
   "outputs": [],
   "source": [
    "batches = math.ceil(len(unheard_song_ids) / 10)\n",
    "unheard_song_ids_batches = np.array_split(unheard_song_ids, batches)"
   ]
  },
  {
   "cell_type": "code",
   "execution_count": null,
   "metadata": {},
   "outputs": [],
   "source": [
    "unheard_songs = pd.DataFrame()\n",
    "\n",
    "for batch in unheard_song_ids_batches:\n",
    "    unheard_songs = get_spotify_songs_metadata(unheard_songs, access_token, batch, 0, np.nan)"
   ]
  },
  {
   "cell_type": "code",
   "execution_count": null,
   "metadata": {},
   "outputs": [],
   "source": [
    "unheard_songs.to_parquet('./datasets/cleaned/music-recommendation-system/unheard/songs.parquet', engine='pyarrow')"
   ]
  }
 ],
 "metadata": {
  "kernelspec": {
   "display_name": "py310",
   "language": "python",
   "name": "python3"
  },
  "language_info": {
   "codemirror_mode": {
    "name": "ipython",
    "version": 3
   },
   "file_extension": ".py",
   "mimetype": "text/x-python",
   "name": "python",
   "nbconvert_exporter": "python",
   "pygments_lexer": "ipython3",
   "version": "3.10.6"
  },
  "orig_nbformat": 4
 },
 "nbformat": 4,
 "nbformat_minor": 2
}
