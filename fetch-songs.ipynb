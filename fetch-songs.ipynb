{
 "cells": [
  {
   "cell_type": "code",
   "execution_count": 12,
   "metadata": {},
   "outputs": [],
   "source": [
    "import dotenv\n",
    "import requests\n",
    "import pandas as pd\n",
    "import urllib.parse"
   ]
  },
  {
   "cell_type": "code",
   "execution_count": 13,
   "metadata": {},
   "outputs": [
    {
     "name": "stdout",
     "output_type": "stream",
     "text": [
      "https://accounts.spotify.com/authorize?client_id=962aeb5559434e8a8ddb2b8c78e6c3d2&response_type=code&redirect_uri=http%3A%2F%2Flocalhost%3A3000&scope=user-read-private+user-read-email\n"
     ]
    }
   ],
   "source": [
    "auth_url = 'https://accounts.spotify.com/authorize'\n",
    "\n",
    "params = {\n",
    "  'client_id': dotenv.get_variable(file_path=\".env.local\", key=\"CLIENT_ID\"),\n",
    "  'response_type': 'code',\n",
    "  'redirect_uri': 'http://localhost:3000',\n",
    "  'scope': 'user-read-private user-read-email'\n",
    "}\n",
    "\n",
    "auth_url = auth_url + '?' + urllib.parse.urlencode(params)\n",
    "print(auth_url)"
   ]
  },
  {
   "cell_type": "code",
   "execution_count": 14,
   "metadata": {},
   "outputs": [],
   "source": [
    "cookie = \"AQAUh4aOGP0LMcAZ0CWWDWghwyEJOQ-lqIprDNYjgtXc1r4tw0AIw3U2m--Z9o0DzSogoVoGPMBRaMvSSKghvXz2os8aRkYenofj1K2-eO6lnhRqunTuCxy6KJuB4NwrjlTkhrO7UOyUNpD1mibtDgoSc99Y1cmMoYUrM2qB1a6yx3D8zcvdrOt3E_Qj0mkbhbjxqpu7l4IOnevU7A\""
   ]
  },
  {
   "cell_type": "code",
   "execution_count": 15,
   "metadata": {},
   "outputs": [
    {
     "name": "stdout",
     "output_type": "stream",
     "text": [
      "BQCpiywL1HjarP8suct_ZgVPQDy5rxnbldMZ8Q215bYUtfbQBfLIqyIkW8IOE-bM-SftUN8s5TrSOa31TQAKdP6yChqVionCOGfFnLktUbJwhwWYF_zPk9sryJ2afEIPNfsBimVqKFyEMhZQBVmREyvueXdfWgwjPQESI5LFHSIb1nGhpJug1yVQool_PqeoUuw7sUshe85VtmfKUfBOCLk\n"
     ]
    }
   ],
   "source": [
    "url = 'https://accounts.spotify.com/api/token'\n",
    "\n",
    "data = {\n",
    "    'grant_type': 'authorization_code',\n",
    "    'code': cookie,\n",
    "    'redirect_uri': 'http://localhost:3000',\n",
    "    'client_id': dotenv.get_variable(file_path=\".env.local\", key=\"CLIENT_ID\"),\n",
    "    'client_secret': {dotenv.get_variable(file_path=\".env.local\", key=\"CLIENT_SECRET\")}\n",
    "}\n",
    "\n",
    "headers = {\n",
    "    'Content-Type': 'application/x-www-form-urlencoded'\n",
    "}\n",
    "\n",
    "response = requests.post(url, data=data, headers=headers)\n",
    "\n",
    "access_token = response.json()['access_token']"
   ]
  },
  {
   "cell_type": "code",
   "execution_count": 16,
   "metadata": {},
   "outputs": [],
   "source": [
    "url = \"https://api.spotify.com/v1/me/playlists\"\n",
    "\n",
    "headers = {\n",
    "    'Authorization': f'Bearer {access_token}',\n",
    "    'Content-Type': 'application/json'\n",
    "}\n",
    "\n",
    "response = requests.get(url, headers=headers)\n",
    "\n",
    "if response.status_code == 200:\n",
    "    playlists = response.json()['items']\n",
    "else:\n",
    "    print(f'Error: {response.status_code} - {response.json()}')"
   ]
  },
  {
   "cell_type": "code",
   "execution_count": 18,
   "metadata": {},
   "outputs": [],
   "source": [
    "playlist_songs = {}\n",
    "\n",
    "for playlist in playlists:\n",
    "  song_url = f\"https://api.spotify.com/v1/playlists/{playlist['id']}/tracks\"\n",
    "  headers = {\n",
    "    'Authorization': f'Bearer {access_token}',\n",
    "    'Content-Type': 'application/json'\n",
    "  }\n",
    "  response = requests.get(song_url, headers=headers)\n",
    "\n",
    "  if response.status_code == 200:\n",
    "    playlist_songs[playlist['id']] = [song['track']['id'] for song in response.json()['items']]"
   ]
  },
  {
   "cell_type": "code",
   "execution_count": 22,
   "metadata": {},
   "outputs": [
    {
     "name": "stdout",
     "output_type": "stream",
     "text": [
      "Total songs: 143\n"
     ]
    }
   ],
   "source": [
    "# count how many songs there are in each playlist\n",
    "playlist_song_count = {playlist: len(songs) for playlist, songs in playlist_songs.items()}\n",
    "playlist_song_count\n",
    "\n",
    "# sum up the total number of songs\n",
    "total_songs = sum(playlist_song_count.values())\n",
    "print(f'Total songs: {total_songs}')"
   ]
  },
  {
   "cell_type": "code",
   "execution_count": 48,
   "metadata": {},
   "outputs": [],
   "source": [
    "# iterate through a dictionary called playlist_songs\n",
    "songs = pd.DataFrame()\n",
    "\n",
    "for _, song_ids in playlist_songs.items():\n",
    "  for song_id in song_ids:\n",
    "    track_url = f\"https://api.spotify.com/v1/tracks/{song_id}\"\n",
    "    audio_analysis_url = f\"https://api.spotify.com/v1/audio-features/{song_id}\"\n",
    "    headers = {\n",
    "      'Authorization': f'Bearer {access_token}',\n",
    "      'Content-Type': 'application/json'\n",
    "    }\n",
    "    track_request = requests.get(track_url, headers=headers)\n",
    "    audio_analysis_request = requests.get(audio_analysis_url, headers=headers)\n",
    "    \n",
    "    track_response = track_request.json()\n",
    "    audio_analysis_response = audio_analysis_request.json()\n",
    "    row = {\n",
    "      'id': track_response.get('id'),\n",
    "      'popularity': track_response.get('popularity'),\n",
    "      'danceability': audio_analysis_response.get('danceability'),\n",
    "      'energy': audio_analysis_response.get('energy'),\n",
    "      'key': audio_analysis_response.get('key'),\n",
    "      'loudness': audio_analysis_response.get('loudness'),\n",
    "      'mode': audio_analysis_response.get('mode'),\n",
    "      'speechiness': audio_analysis_response.get('speechiness'),\n",
    "      'acousticness': audio_analysis_response.get('acousticness'),\n",
    "      'instrumentalness': audio_analysis_response.get('instrumentalness'),\n",
    "      'liveness': audio_analysis_response.get('liveness'),\n",
    "      'valence': audio_analysis_response.get('valence'),\n",
    "      'tempo': audio_analysis_response.get('tempo'),\n",
    "      'type': audio_analysis_response.get('type'),\n",
    "      'id': audio_analysis_response.get('id'),\n",
    "      'uri': audio_analysis_response.get('uri'),\n",
    "      'track_href': audio_analysis_response.get('track_href'),\n",
    "      'analysis_url': audio_analysis_response.get('analysis_url'),\n",
    "      'duration_ms': audio_analysis_response.get('duration_ms'),\n",
    "      'time_signature': audio_analysis_response.get('time_signature')\n",
    "    }\n",
    "    # concatentate the row to the songs dataframe with the index being the length of the songs dataframe\n",
    "    songs = pd.concat([songs, pd.DataFrame(row, index=[len(songs)])])"
   ]
  },
  {
   "cell_type": "code",
   "execution_count": 49,
   "metadata": {},
   "outputs": [
    {
     "name": "stdout",
     "output_type": "stream",
     "text": [
      "Empty DataFrame\n",
      "Columns: [id, popularity, danceability, energy, key, loudness, mode, speechiness, acousticness, instrumentalness, liveness, valence, tempo, type, uri, track_href, analysis_url, duration_ms, time_signature]\n",
      "Index: []\n"
     ]
    }
   ],
   "source": [
    "# find the songs that have a type of None\n",
    "print(songs[songs['type'].isnull()])"
   ]
  },
  {
   "cell_type": "code",
   "execution_count": 50,
   "metadata": {},
   "outputs": [],
   "source": [
    "# save the songs dataframe to a parquet file\n",
    "songs.to_parquet('favorite-songs.parquet')"
   ]
  }
 ],
 "metadata": {
  "kernelspec": {
   "display_name": "py310",
   "language": "python",
   "name": "python3"
  },
  "language_info": {
   "codemirror_mode": {
    "name": "ipython",
    "version": 3
   },
   "file_extension": ".py",
   "mimetype": "text/x-python",
   "name": "python",
   "nbconvert_exporter": "python",
   "pygments_lexer": "ipython3",
   "version": "3.10.6"
  },
  "orig_nbformat": 4
 },
 "nbformat": 4,
 "nbformat_minor": 2
}
